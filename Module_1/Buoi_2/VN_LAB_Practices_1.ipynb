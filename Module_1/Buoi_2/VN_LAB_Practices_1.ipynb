{
 "cells": [
  {
   "cell_type": "markdown",
   "metadata": {},
   "source": [
    "# Exercise 1:"
   ]
  },
  {
   "cell_type": "markdown",
   "metadata": {},
   "source": [
    "## Question 1:\n",
    "Viết chương trình nhập vào một số thực. Đơn vị tính cho số này là centimet (cm). Hãy in ra số tương đương tính bằng foot (số thực, có 2 số lẻ thập phân) và inch (số thực, có 2 số lẻ thập phân). Với 1 inch = 2.54 cm và 1 foot = 12 inches."
   ]
  },
  {
   "cell_type": "code",
   "execution_count": 13,
   "metadata": {},
   "outputs": [
    {
     "name": "stdout",
     "output_type": "stream",
     "text": [
      "3.28\n",
      "39.37\n"
     ]
    }
   ],
   "source": [
    "def cm2foot(cm):\n",
    "    return round(cm / 2.54 / 12, 2)\n",
    "\n",
    "def cm2inch(cm):\n",
    "    return round(cm / 2.54, 2)\n",
    "\n",
    "cm = float(input(\"Enter a length in cm: \")) #100\n",
    "print(cm2foot(cm)) #3.28\n",
    "print(cm2inch(cm)) #39.37\n"
   ]
  },
  {
   "cell_type": "markdown",
   "metadata": {},
   "source": [
    "## Question 2:\n",
    "Viết chương trình nhập vào số giây từ 0 tới 68399, đổi số giây này thành dạng [giờ:phút:giây], mỗi thành phần là một số nguyên có 2 chữ số.\n",
    "\n",
    "Ví dụ: 7865 -> 02:11:05"
   ]
  },
  {
   "cell_type": "code",
   "execution_count": 5,
   "metadata": {},
   "outputs": [
    {
     "name": "stdout",
     "output_type": "stream",
     "text": [
      "00:01:40\n"
     ]
    }
   ],
   "source": [
    "def s2hms(s):\n",
    "    result = ''\n",
    "    h = s // 3600\n",
    "    result += f'{h:02d}:'\n",
    "    s %= 3600\n",
    "    m = s // 60\n",
    "    result += f'{m:02d}:'\n",
    "    s %= 60\n",
    "    result += f'{s:02d}'\n",
    "    return result\n",
    "\n",
    "s = int(input(\"Enter a time in seconds: \")) #100\n",
    "print(s2hms(s)) #00:01:40"
   ]
  },
  {
   "cell_type": "markdown",
   "metadata": {},
   "source": [
    "## Question 3:\n",
    "Viết chương trình nhập vào 4 số nguyên.\n",
    "Hiển thị ra số lớn nhất và nhỏ nhất\n",
    "\n",
    "Ví dụ:\n",
    "nhập vào 4 số 1,2,3,4 thì kết quả là:\n",
    "* Số lớn nhất là: 4\n",
    "* Số nhỏ nhất là: 1"
   ]
  },
  {
   "cell_type": "code",
   "execution_count": 7,
   "metadata": {},
   "outputs": [
    {
     "name": "stdout",
     "output_type": "stream",
     "text": [
      "Max: 4\n",
      "Min: 1\n"
     ]
    }
   ],
   "source": [
    "nums = [int(input()) for _ in range(4)]\n",
    "print(f'Max: {max(nums)}')\n",
    "print(f'Min: {min(nums)}')"
   ]
  },
  {
   "cell_type": "markdown",
   "metadata": {},
   "source": [
    "## Question 4:\n",
    "Nhập vào hai số tự nhiên a và b. Tính hiệu của hai số đó.\n",
    "* Nếu hiệu số lớn hơn 0 thì in ra dòng chữ [Số thứ nhất lớn hơn số thứ hai].\n",
    "* Nếu hiệu số nhỏ hơn 0 thì in ra dòng chữ [Số thứ nhất nhỏ hơn số thứ hai]."
   ]
  },
  {
   "cell_type": "code",
   "execution_count": 14,
   "metadata": {},
   "outputs": [
    {
     "name": "stdout",
     "output_type": "stream",
     "text": [
      "Số thứ nhất lớn hơn số thứ hai\n"
     ]
    }
   ],
   "source": [
    "a = int(input()) #5\n",
    "b = int(input()) #3\n",
    "sub = a - b #2>0\n",
    "print('Số thứ nhất lớn hơn số thứ hai' if sub > 0 else 'Số thứ nhất nhỏ hơn số thứ hai' if sub < 0 else 'Hai số bằng nhau')"
   ]
  },
  {
   "cell_type": "markdown",
   "metadata": {},
   "source": [
    "## Question 5:\n",
    "Nhập vào 2 số tự nhiên a và b. Kiểm tra xem a có chia hết cho b không"
   ]
  },
  {
   "cell_type": "code",
   "execution_count": 13,
   "metadata": {},
   "outputs": [
    {
     "name": "stdout",
     "output_type": "stream",
     "text": [
      "No\n"
     ]
    }
   ],
   "source": [
    "a = int(input()) #5\n",
    "b = int(input()) #3\n",
    "print('Yes' if a % b == 0 else 'No') #No"
   ]
  },
  {
   "cell_type": "markdown",
   "metadata": {},
   "source": [
    "## Question 6:\n",
    "Xếp loại sinh viên theo các quy luật dưới đây:\n",
    "-\tNếu điểm >= 9.0 - Loại xuất sắc\n",
    "-\tNếu 8.0<= điểm < 9.0 - Loại giỏi\n",
    "-\tNếu 7.0<= điểm < 8.0 - Loại khá\n",
    "-\tNếu 6.0 <= điểm < 7.0 - Loại trung bình khá\n",
    "-\tNếu 5.0 <= điểm < 6.0 - Loại trung bình\n",
    "-\tNếu điểm < 5.0 - Loại kém\n",
    "\n",
    "Với điểm = ( (điểm toán)*2 + điểm lý + điểm hóa  )/4\n",
    "\n",
    "Viết Chương trình:\n",
    "1. Nhập vào điểm 3 môn học\n",
    "2. Tính điểm trung bình\n",
    "3. Xác định học lực của học sinh dựa trên điểm trung bình\n",
    "4. Hiển thị học lực của học sinh"
   ]
  },
  {
   "cell_type": "code",
   "execution_count": 16,
   "metadata": {},
   "outputs": [
    {
     "name": "stdout",
     "output_type": "stream",
     "text": [
      "Loại giỏi\n"
     ]
    }
   ],
   "source": [
    "def grade(score):\n",
    "    if score >= 9:\n",
    "        return 'Loại xuất sắc'\n",
    "    elif score >= 8:\n",
    "        return 'Loại giỏi'\n",
    "    elif score >= 7:\n",
    "        return 'Loại khá'\n",
    "    elif score >= 6:\n",
    "        return 'Loại trung bình khá'\n",
    "    elif score >= 5:\n",
    "        return 'Loại trung bình'\n",
    "    else:\n",
    "        return 'Loại kém'\n",
    "\n",
    "scores = [float(input()) for _ in range(3)] #[8, 7, 9]\n",
    "avr = (sum(scores) + scores[0]) / 4 #8.0\n",
    "print(grade(avr)) #Loại giỏi"
   ]
  },
  {
   "cell_type": "markdown",
   "metadata": {},
   "source": [
    "# Exercise 2:"
   ]
  },
  {
   "cell_type": "markdown",
   "metadata": {},
   "source": [
    "## Question 1:\n",
    "Hãy viết chương trình tính tổng các chữ số của một số nguyên bất kỳ.\n",
    "\n",
    "Ví dụ: Số 8545604 có tổng các chữ số là: 8+5+4+5+6+0+4= 32"
   ]
  },
  {
   "cell_type": "code",
   "execution_count": 17,
   "metadata": {},
   "outputs": [
    {
     "name": "stdout",
     "output_type": "stream",
     "text": [
      "32\n"
     ]
    }
   ],
   "source": [
    "def sum_digits(n):\n",
    "    return sum(map(int, str(n)))\n",
    "\n",
    "num = input() #8545604\n",
    "print(sum_digits(num)) #32"
   ]
  },
  {
   "cell_type": "markdown",
   "metadata": {},
   "source": [
    "## Question 2:\n",
    "Viết chương trình phân tích một số nguyên thành các thừa số nguyên tố\n",
    "\n",
    "Ví dụ: Số 28 được phân tích thành 2 x 2 x 7"
   ]
  },
  {
   "cell_type": "code",
   "execution_count": 22,
   "metadata": {},
   "outputs": [
    {
     "name": "stdout",
     "output_type": "stream",
     "text": [
      "2 x 2 x 7\n"
     ]
    }
   ],
   "source": [
    "def prime_factors(n):\n",
    "    result = []\n",
    "    i = 2\n",
    "    while n > 1:\n",
    "        if n % i == 0:\n",
    "            result.append(i)\n",
    "            n //= i\n",
    "        else:\n",
    "            i += 1\n",
    "    return ' x '.join(map(str, result))\n",
    "\n",
    "n = int(input()) #28\n",
    "print(prime_factors(n)) #2 x 2 x 7"
   ]
  },
  {
   "cell_type": "markdown",
   "metadata": {},
   "source": [
    "## Question 3:\n",
    "Viết chương trình liệt kê tất cả các số nguyên tố nhỏ hơn n cho trước."
   ]
  },
  {
   "cell_type": "code",
   "execution_count": 26,
   "metadata": {},
   "outputs": [
    {
     "name": "stdout",
     "output_type": "stream",
     "text": [
      "[2, 3, 5, 7, 11, 13, 17, 19, 23]\n"
     ]
    }
   ],
   "source": [
    "def sieve_of_eratosthenes(n):\n",
    "    primes = []\n",
    "    sieve = [True] * (n + 1)\n",
    "    for i in range(2, int(n ** 0.5) + 1):\n",
    "        if sieve[i]:\n",
    "            for j in range(i * i, n, i):\n",
    "                sieve[j] = False\n",
    "    return [i for i in range(2, n) if sieve[i]]\n",
    "\n",
    "n = int(input()) #29\n",
    "print(sieve_of_eratosthenes(n)) #[2, 3, 5, 7, 11, 13, 17, 19, 23]"
   ]
  },
  {
   "cell_type": "markdown",
   "metadata": {},
   "source": [
    "## Question 4:\n",
    "Viết chương trình liệt kê n số nguyên tố đầu tiên."
   ]
  },
  {
   "cell_type": "code",
   "execution_count": 31,
   "metadata": {},
   "outputs": [
    {
     "name": "stdout",
     "output_type": "stream",
     "text": [
      "[2, 3, 5, 7, 11, 13, 17, 19, 23, 29, 31, 37, 41, 43, 47, 53, 59, 61, 67, 71, 73, 79, 83, 89, 97, 101, 103, 107, 109]\n",
      "29\n"
     ]
    }
   ],
   "source": [
    "def is_prime(n):\n",
    "    for i in range(2, int(n ** 0.5) + 1):\n",
    "        if n % i == 0:\n",
    "            return False\n",
    "    return True\n",
    "\n",
    "n = int(input()) #29\n",
    "\n",
    "def list_n_primes(n):\n",
    "    start = 2\n",
    "    result = []\n",
    "    while n > 0:\n",
    "        if is_prime(start):\n",
    "            result.append(start)\n",
    "            n -= 1\n",
    "        start += 1\n",
    "    return result\n",
    "\n",
    "print(list_n_primes(n)) #[2, 3, 5, 7, 11, 13, 17, 19, 23, 29, 31, 37, 41, 43, 47, 53, 59, 61, 67, 71, 73, 79, 83, 89, 97, 101, 103, 107, 109]\n",
    "print(len(list_n_primes(n))) #29"
   ]
  },
  {
   "cell_type": "markdown",
   "metadata": {},
   "source": [
    "## Question 5:\n",
    "Viết chương trình tìm ước số chung lớn nhất, bội số chung nhỏ nhất của hai số tự nhiên a và b."
   ]
  },
  {
   "cell_type": "code",
   "execution_count": 32,
   "metadata": {},
   "outputs": [
    {
     "name": "stdout",
     "output_type": "stream",
     "text": [
      "6\n",
      "36\n"
     ]
    }
   ],
   "source": [
    "def gcd(a, b):\n",
    "    while b:\n",
    "        a, b = b, a % b\n",
    "    return a\n",
    "\n",
    "def lcm(a, b):\n",
    "    return a * b // gcd(a, b)\n",
    "\n",
    "a = int(input()) #12\n",
    "b = int(input()) #18\n",
    "print(gcd(a, b)) #6\n",
    "print(lcm(a, b)) #36"
   ]
  },
  {
   "cell_type": "markdown",
   "metadata": {},
   "source": [
    "## Question 6:\n",
    "Dãy số Fibonacci được định nghĩa như sau:\n",
    "\n",
    "F0 =1, F1 = 1; Fn = Fn-1 + Fn-2 với n>=2.\n",
    "\n",
    "Hãy viết chương trình tìm số Fibonacci thứ n."
   ]
  },
  {
   "cell_type": "code",
   "execution_count": 33,
   "metadata": {},
   "outputs": [
    {
     "name": "stdout",
     "output_type": "stream",
     "text": [
      "34\n"
     ]
    }
   ],
   "source": [
    "def nth_fibonacci(n):\n",
    "    a, b = 0, 1\n",
    "    for _ in range(n - 1):\n",
    "        a, b = b, a + b\n",
    "    return a\n",
    "\n",
    "n = int(input()) #10\n",
    "print(nth_fibonacci(n)) #34"
   ]
  },
  {
   "cell_type": "markdown",
   "metadata": {},
   "source": [
    "## Question 7:\n",
    "Nhập một số tự nhiên n.\n",
    "\n",
    "Hãy liệt kê các số Fibonaci nhỏ hơn n là số nguyên tố"
   ]
  },
  {
   "cell_type": "code",
   "execution_count": 38,
   "metadata": {},
   "outputs": [
    {
     "name": "stdout",
     "output_type": "stream",
     "text": [
      "13\n"
     ]
    }
   ],
   "source": [
    "def is_prime(n):\n",
    "    if n < 2:\n",
    "        return False\n",
    "    for i in range(2, int(n ** 0.5) +1):\n",
    "        if n%i == 0:\n",
    "            return False\n",
    "    return True\n",
    "\n",
    "def max_fibonacci_prime(n):\n",
    "    a, b = 0, 1\n",
    "    result = a\n",
    "    while a < n:\n",
    "        if is_prime(a):\n",
    "            result = a\n",
    "        a, b = b, a + b\n",
    "    return result\n",
    "\n",
    "n = int(input()) #21\n",
    "print(max_fibonacci_prime(n)) #13"
   ]
  },
  {
   "cell_type": "markdown",
   "metadata": {},
   "source": [
    "## Question 8:\n",
    "Viết chương trình nhập một số nguyên dương n và thực hiện các chức năng sau:\n",
    "1. Tính tổng các chữ số của n.\n",
    "2. Phân tích n thành các thừa số nguyên tố."
   ]
  },
  {
   "cell_type": "code",
   "execution_count": 40,
   "metadata": {},
   "outputs": [
    {
     "name": "stdout",
     "output_type": "stream",
     "text": [
      "15\n",
      "3 x 5 x 823\n"
     ]
    }
   ],
   "source": [
    "def sum_digits(n):\n",
    "    return sum(map(int, str(n)))\n",
    "\n",
    "def prime_factors(n):\n",
    "    n = int(n)\n",
    "    result = []\n",
    "    i = 2\n",
    "    while n > 1:\n",
    "        if n % i == 0:\n",
    "            result.append(i)\n",
    "            n //= i\n",
    "        else:\n",
    "            i += 1\n",
    "    return ' x '.join(map(str, result))\n",
    "\n",
    "n = input() #12345\n",
    "print(sum_digits(n)) #15\n",
    "print(prime_factors(n)) #3 x 5 x 823"
   ]
  },
  {
   "cell_type": "markdown",
   "metadata": {},
   "source": [
    "## Question 9:\n",
    "Viết chương trình nhập một số nguyên dương n và thực hiện các chức năng sau:\n",
    "1. Liệt kê các ước số của n. Có bao nhiêu ước số.\n",
    "2. Liệt kê các ước số là nguyên tố của n."
   ]
  },
  {
   "cell_type": "code",
   "execution_count": 42,
   "metadata": {},
   "outputs": [
    {
     "name": "stdout",
     "output_type": "stream",
     "text": [
      "The input number has 6 divisors: [1, 2, 4, 7, 14, 28]\n",
      "The prime divisors are: [2, 7]\n"
     ]
    }
   ],
   "source": [
    "def is_prime(n):\n",
    "    if n < 2:\n",
    "        return False\n",
    "    for i in range(2, int(n ** 0.5) + 1):\n",
    "        if n % i == 0:\n",
    "            return False\n",
    "    return True\n",
    "\n",
    "def lst_divisors(n):\n",
    "    result = []\n",
    "    for i in range(1, n + 1):\n",
    "        if n % i == 0:\n",
    "            result.append(i)\n",
    "    return result, len(result)\n",
    "\n",
    "def lst_divisors_prime(divisors):\n",
    "    result = []\n",
    "    for divisor in divisors:\n",
    "        if is_prime(divisor):\n",
    "            result.append(divisor)\n",
    "    return result\n",
    "\n",
    "n = int(input()) #28\n",
    "divisors, len_divisors = lst_divisors(n)\n",
    "print(f'The input number has {len_divisors} divisors: {divisors}') #[1, 2, 4, 7, 14, 28]\n",
    "print(f'The prime divisors are: {lst_divisors_prime(divisors)}') #[2, 7]"
   ]
  },
  {
   "cell_type": "markdown",
   "metadata": {},
   "source": [
    "## Question 10:\n",
    "Viết chương trình thực hiện chuẩn hoá một xâu ký tự nhập từ bàn phím (loại bỏ các dấu cách thừa, chuyển ký tự đầu mỗi từ thành chữ hoa, các ký tự khác thành chữ thường)"
   ]
  },
  {
   "cell_type": "code",
   "execution_count": 5,
   "metadata": {},
   "outputs": [
    {
     "name": "stdout",
     "output_type": "stream",
     "text": [
      "Hello, world i am here!!!!!\n"
     ]
    }
   ],
   "source": [
    "def standardization(s):\n",
    "    s = s.strip()\n",
    "    s = s.capitalize()\n",
    "    s = ' '.join(s.split())\n",
    "    return s\n",
    "\n",
    "string = input() #'  hello,   world    i am  here!!!!!  '\n",
    "print(standardization(string)) #'Hello, world i am here!!!!!'\n"
   ]
  },
  {
   "cell_type": "markdown",
   "metadata": {},
   "source": [
    "## Question 11:\n",
    "Viết chương trình thực hiện nhập một xâu ký tự\n",
    "1. Tìm từ dài nhất trong xâu đó.\n",
    "2. Từ đó xuất hiện ở vị trí nào?\n",
    "\n",
    "(Chú ý. nếu có nhiều từ có độ dài giống nhau thì chọn từ đầu tiên tìm thấy)."
   ]
  },
  {
   "cell_type": "code",
   "execution_count": 7,
   "metadata": {},
   "outputs": [
    {
     "name": "stdout",
     "output_type": "stream",
     "text": [
      "This is a test string for testing something blabla\n",
      "('something', 34)\n"
     ]
    }
   ],
   "source": [
    "def highest_len_word(s):\n",
    "    words = s.split()\n",
    "    max_words = max(words, key=len)\n",
    "    return max_words, s.index(max_words)\n",
    "\n",
    "string = input() #'   this is a test string    for testing something blabla   '\n",
    "string = standardization(string)\n",
    "print(standardization(string)) #'This is a test string for testing something blabla'\n",
    "print(highest_len_word(string)) #('something', 34)"
   ]
  },
  {
   "cell_type": "markdown",
   "metadata": {},
   "source": [
    "# Exercise 3:"
   ]
  },
  {
   "attachments": {
    "image.png": {
     "image/png": "[encoded data removed]"
    }
   },
   "cell_type": "markdown",
   "metadata": {},
   "source": [
    "## Question 1: \n",
    "Sử dụng for, while, do while để cho ra kết quả a, b, c, d như ảnh\n",
    "![image.png](attachment:image.png)"
   ]
  },
  {
   "cell_type": "code",
   "execution_count": 14,
   "metadata": {},
   "outputs": [],
   "source": [
    "# Set length for rectangles\n",
    "rec_len = 8"
   ]
  },
  {
   "cell_type": "markdown",
   "metadata": {},
   "source": [
    "### (a)"
   ]
  },
  {
   "cell_type": "code",
   "execution_count": 11,
   "metadata": {},
   "outputs": [
    {
     "name": "stdout",
     "output_type": "stream",
     "text": [
      "*\n",
      "**\n",
      "***\n",
      "****\n",
      "*****\n",
      "******\n",
      "*******\n",
      "********\n"
     ]
    }
   ],
   "source": [
    "for i in range(1, rec_len+1):\n",
    "    print('*' * i)"
   ]
  },
  {
   "cell_type": "markdown",
   "metadata": {},
   "source": [
    "### (b)"
   ]
  },
  {
   "cell_type": "code",
   "execution_count": 13,
   "metadata": {},
   "outputs": [
    {
     "name": "stdout",
     "output_type": "stream",
     "text": [
      "********\n",
      "*******\n",
      "******\n",
      "*****\n",
      "****\n",
      "***\n",
      "**\n",
      "*\n"
     ]
    }
   ],
   "source": [
    "for i in range(rec_len, 0, -1):\n",
    "    print('*' * i)"
   ]
  },
  {
   "cell_type": "markdown",
   "metadata": {},
   "source": [
    "### (c)"
   ]
  },
  {
   "cell_type": "code",
   "execution_count": 15,
   "metadata": {},
   "outputs": [
    {
     "name": "stdout",
     "output_type": "stream",
     "text": [
      "********\n",
      " *******\n",
      "  ******\n",
      "   *****\n",
      "    ****\n",
      "     ***\n",
      "      **\n",
      "       *\n"
     ]
    }
   ],
   "source": [
    "for i in range(0, rec_len):\n",
    "    print(' ' * i + '*' * (rec_len-i))"
   ]
  },
  {
   "cell_type": "markdown",
   "metadata": {},
   "source": [
    "### (d)"
   ]
  },
  {
   "cell_type": "code",
   "execution_count": 16,
   "metadata": {},
   "outputs": [
    {
     "name": "stdout",
     "output_type": "stream",
     "text": [
      "       *\n",
      "      **\n",
      "     ***\n",
      "    ****\n",
      "   *****\n",
      "  ******\n",
      " *******\n",
      "********\n"
     ]
    }
   ],
   "source": [
    "for i in range(1, rec_len+1):\n",
    "    print(' ' * (rec_len-i) + '*' * i)"
   ]
  },
  {
   "cell_type": "markdown",
   "metadata": {},
   "source": [
    "## Question 2:\n",
    "Viết chương trình tính n! với n là số tự nhiên không âm nhập vào từ bàn phím. Trong đó: 0! = 1 n! = 1.2.3...n"
   ]
  },
  {
   "cell_type": "code",
   "execution_count": 17,
   "metadata": {},
   "outputs": [
    {
     "name": "stdout",
     "output_type": "stream",
     "text": [
      "120\n"
     ]
    }
   ],
   "source": [
    "def factorial(n):\n",
    "    if n == 0:\n",
    "        return 1\n",
    "    return n * factorial(n - 1)\n",
    "\n",
    "n = int(input()) #5\n",
    "print(factorial(n)) #120"
   ]
  }
 ],
 "metadata": {
  "kernelspec": {
   "display_name": "aMs_3.11",
   "language": "python",
   "name": "python3"
  },
  "language_info": {
   "codemirror_mode": {
    "name": "ipython",
    "version": 3
   },
   "file_extension": ".py",
   "mimetype": "text/x-python",
   "name": "python",
   "nbconvert_exporter": "python",
   "pygments_lexer": "ipython3",
   "version": "3.11.8"
  }
 },
 "nbformat": 4,
 "nbformat_minor": 2
}
